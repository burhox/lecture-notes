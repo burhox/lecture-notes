{
 "cells": [
  {
   "cell_type": "markdown",
   "metadata": {},
   "source": [
    "### ===================================================\n",
    "# Lesson 2: Introduction to NumPy\n",
    "### ==================================================="
   ]
  },
  {
   "cell_type": "markdown",
   "metadata": {},
   "source": [
    "NumPy (or Numpy) is the main library for scientific computing in Python. It provides a high-performance multidimensional array object, and tools for working with these arrays. One may think of NumPy as a Linear Algebra library for Python. \n",
    "\n",
    "Numpy is super important when doing Data Science and Machine Learning with Python as almost all of the libraries in the PyData Ecosystem rely on Numpy as one of their most important building blocks!\n",
    "\n",
    "NumPy Python gives functionality comparable to MATLAB and they both allow the user to write fast programs as long as most operations work on arrays or matrices instead of scalars. In comparison, MATLAB boasts a large number of additional toolboxes, notably Simulink, whereas NumPy is intrinsically integrated with Python, a more modern and complete programming language. Moreover, complementary Python packages are available; SciPy is a library that adds more MATLAB-like functionality and Matplotlib is a plotting package that provides MATLAB-like plotting functionality.\n",
    "\n",
    "Numpy is quite fast as, under the hood, it has direct bindings to C libraries.\n",
    "\n",
    "To use Numpy you need to first import it into the Notebook. It is customary to import it using ``np`` as an alias:"
   ]
  },
  {
   "cell_type": "code",
   "execution_count": 3,
   "metadata": {},
   "outputs": [],
   "source": [
    "import numpy as np"
   ]
  },
  {
   "cell_type": "markdown",
   "metadata": {},
   "source": [
    "<h2>NumPy Arrays</h2>"
   ]
  },
  {
   "cell_type": "markdown",
   "metadata": {},
   "source": [
    "Numpy arrays are the main way in which we will be using Numpy in this course. We will almost exclusively use only the following two types of arrays:\n",
    "\n",
    "- *1-D Arrays, also known as vectors*, and \n",
    "- *2-D Arrays, also known as matrices.*\n",
    "    \n",
    "<b>Remark:</b> there are, however, multidimensional arrays which are used for example when conducting image classification. We will give examples for multidmensional arrays below as well, but we will most likely not encounter them again for the duration of this course. \n",
    "\n",
    "Regardless of the dimension of arrays, it is standard to refer to them simply as <b>arrays</b>.\n",
    "\n",
    "We will cover a few categories of basic array manipulations here:\n",
    "\n",
    "- <i>Multiple ways of creating numpy arrays</i>\n",
    "- *Attributes of arrays*: Determining the size, shape, and data types of arrays\n",
    "- *Indexing of arrays*: Extracting and setting the value of individual array elements\n",
    "- *Slicing of arrays*: Extracting and setting smaller subarrays within a larger array\n",
    "- *Reshaping of arrays*: Changing the shape of a given array\n",
    "- *Joining and splitting of arrays*: Combining multiple arrays into one, and splitting one array into many\n",
    "\n",
    "<br>\n",
    "<h2> Creating NumPy Arrays</h2>\n",
    "<br>\n",
    "\n",
    "<ol style=\"list-style-type:square;\"> \n",
    "    \n",
    "<li><h3>Creating N-Dimensional NumPy Arrays From Python Objects</h3></li>\n",
    "     <ol style='list-style-type:circle;'>\n",
    "         <br>\n",
    "      <li><b>1-D Arrays From Python Lists</b></li> First, we create a Python list\n",
    "        \n",
    "```python\n",
    "my_list=[1,2,3] \n",
    "```\n",
    "We can cast that list into a Numpy array:\n",
    "```python\n",
    "arr=np.array(my_list)\n",
    "#Result\n",
    "array([1, 2, 3])\n",
    "```\n",
    "<li><b> 2-D Arrays From Lists of Lists</b></li>\n",
    "First create a list of lists\n",
    "\n",
    "```python\n",
    "my2D_mat=[[1,1,1],[2,2,2],[3,3,3],[4,4,4]]\n",
    "```\n",
    "\n",
    "we can cast this list of lists into a numpy array to create a 4x3 matrix:\n",
    "\n",
    "```python\n",
    "mat2D_arr=np.array(my_mat)\n",
    "\n",
    "#Result\n",
    "array([[1, 1, 1],\n",
    "       [2, 2, 2],\n",
    "       [3, 3, 3],\n",
    "       [4, 4, 4]])\n",
    "```\n",
    "   <br><li><b> 3-D Arrays From Lists of Lists</b></li>\n",
    "First we create a *nested* list of lists\n",
    "```python\n",
    "my3D_mat=[[[1,1,1],[1,1,1]],[[2,2,2],[2,2,2]],[[3,3,3],[3,3,3]],[[4,4,4],[4,4,4]]]\n",
    "```\n",
    "We cast this into a 3-dimensional 4x2x3 array by:\n",
    "```python\n",
    "my3D_arr=np.array(my3D_mat)\n",
    "#Result \n",
    "array([[[1, 1, 1],\n",
    "        [1, 1, 1]],\n",
    "\n",
    "       [[2, 2, 2],\n",
    "        [2, 2, 2]],\n",
    "\n",
    "       [[3, 3, 3],\n",
    "        [3, 3, 3]],\n",
    "\n",
    "       [[4, 4, 4],\n",
    "        [4, 4, 4]]])\n",
    "```\n",
    "</ol>\n",
    "   \n",
    "\n",
    "<li><h3>Creating N-Dimensional NumPy Arrays From NumPy Built-in Methods</h3></li>\n",
    "\n",
    "<ol style='list-style-type:circle;'>\n",
    "<br>\n",
    "<li> <b>1-D NumPy Arrays From The <i>Arange</i> Method </b></li>\n",
    "    \n",
    "```python \n",
    "np.arange(Start, Stop, Step_Size)\n",
    "```\n",
    "If no step size is specified, the default is 1\n",
    "\n",
    "If no start point is specified, the default will be 0\n",
    "\n",
    "Examples:\n",
    "```python\n",
    "np.arange(0,10)\n",
    "#Result\n",
    "array([0, 1, 2, 3, 4, 5, 6, 7, 8, 9])\n",
    "\n",
    "np.arange(10)\n",
    "#Result\n",
    "array([0, 1, 2, 3, 4, 5, 6, 7, 8, 9])\n",
    "\n",
    "np.arange(5,20,2)\n",
    "#Result\n",
    "array([ 5,  7,  9, 11, 13, 15, 17, 19]\n",
    "```\n",
    "\n",
    "    \n",
    "    \n",
    "<li> <b>N-Dim Array of Zeros</b></li>\n",
    "    \n",
    "```python\n",
    "    np.zeros(shape=(rows,columns), dtype=[float,int])\n",
    "```\n",
    "Examples\n",
    "\n",
    "```python\n",
    "np.zeros(4)\n",
    "#Result\n",
    "array([0., 0., 0., 0.])\n",
    "#Shape\n",
    "np.zeros(4).shape=(4,)\n",
    "\n",
    "np.zeros((1,4))\n",
    "#Result\n",
    "array([[0, 0, 0, 0]])\n",
    "#Shape\n",
    "np.zeros((1,4)).shape=(1,4)\n",
    "\n",
    "```\n",
    "\n",
    "\n",
    "    \n",
    "    \n",
    "   </ol>\n",
    "\n",
    "\n",
    "</ol>"
   ]
  },
  {
   "cell_type": "code",
   "execution_count": 40,
   "metadata": {},
   "outputs": [
    {
     "data": {
      "text/plain": [
       "array([[0, 0, 0, 0]])"
      ]
     },
     "execution_count": 40,
     "metadata": {},
     "output_type": "execute_result"
    }
   ],
   "source": [
    "np.zeros((1,4), dtype=int)"
   ]
  },
  {
   "cell_type": "code",
   "execution_count": 20,
   "metadata": {},
   "outputs": [
    {
     "ename": "TypeError",
     "evalue": "'size' is an invalid keyword argument for arange()",
     "output_type": "error",
     "traceback": [
      "\u001b[1;31m---------------------------------------------------------------------------\u001b[0m",
      "\u001b[1;31mTypeError\u001b[0m                                 Traceback (most recent call last)",
      "\u001b[1;32m<ipython-input-20-4b6f044e3e29>\u001b[0m in \u001b[0;36m<module>\u001b[1;34m\u001b[0m\n\u001b[1;32m----> 1\u001b[1;33m \u001b[0mnp\u001b[0m\u001b[1;33m.\u001b[0m\u001b[0marange\u001b[0m\u001b[1;33m(\u001b[0m\u001b[1;36m0\u001b[0m\u001b[1;33m,\u001b[0m\u001b[1;36m10\u001b[0m\u001b[1;33m,\u001b[0m\u001b[1;36m1\u001b[0m\u001b[1;33m,\u001b[0m\u001b[0msize\u001b[0m\u001b[1;33m=\u001b[0m\u001b[1;33m(\u001b[0m\u001b[1;36m2\u001b[0m\u001b[1;33m,\u001b[0m\u001b[1;36m5\u001b[0m\u001b[1;33m)\u001b[0m\u001b[1;33m)\u001b[0m\u001b[1;33m\u001b[0m\u001b[1;33m\u001b[0m\u001b[0m\n\u001b[0m",
      "\u001b[1;31mTypeError\u001b[0m: 'size' is an invalid keyword argument for arange()"
     ]
    }
   ],
   "source": [
    "np.arange(0,10,1,size=(2,5))"
   ]
  },
  {
   "cell_type": "markdown",
   "metadata": {},
   "source": [
    " <ol>\n",
    "  <li>Coffee</li>\n",
    "  <li>Tea\n",
    "    <ol>\n",
    "      <li>Black tea</li>\n",
    "      <li>Green tea</li>\n",
    "    </ol>\n",
    "  </li>\n",
    "  <li>Milk</li>\n",
    "</ol> "
   ]
  },
  {
   "cell_type": "markdown",
   "metadata": {},
   "source": [
    "<table style=\"width:40%\">\n",
    "<tr>\n",
    "<th>Name</th>\n",
    "<th>Address</th>\n",
    "<th>Salary</th>\n",
    "</tr>\n",
    "\n",
    "<tr>\n",
    "<td>Hanna</td>\n",
    "<td>Brisbane</td>\n",
    "<td>4000</td>\n",
    "</tr>\n",
    "\n",
    "<tr>\n",
    "<td><Adam></td>\n",
    "<td><Sydney></td>\n",
    "<td><5000></td>\n",
    "</tr>\n",
    "</table>"
   ]
  },
  {
   "cell_type": "code",
   "execution_count": null,
   "metadata": {},
   "outputs": [],
   "source": []
  },
  {
   "cell_type": "code",
   "execution_count": null,
   "metadata": {},
   "outputs": [],
   "source": []
  }
 ],
 "metadata": {
  "kernelspec": {
   "display_name": "Python 3",
   "language": "python",
   "name": "python3"
  },
  "language_info": {
   "codemirror_mode": {
    "name": "ipython",
    "version": 3
   },
   "file_extension": ".py",
   "mimetype": "text/x-python",
   "name": "python",
   "nbconvert_exporter": "python",
   "pygments_lexer": "ipython3",
   "version": "3.7.4"
  }
 },
 "nbformat": 4,
 "nbformat_minor": 2
}
